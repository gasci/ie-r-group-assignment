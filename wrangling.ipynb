{
 "cells": [
  {
   "cell_type": "code",
   "execution_count": 7,
   "metadata": {},
   "outputs": [
    {
     "name": "stdout",
     "output_type": "stream",
     "text": [
      "\n",
      "The downloaded binary packages are in\n",
      "\t/var/folders/9h/h3c_lg5958zgtkrsy6ylrwn40000gn/T//RtmpTK9Oah/downloaded_packages\n",
      "\n",
      "The downloaded binary packages are in\n",
      "\t/var/folders/9h/h3c_lg5958zgtkrsy6ylrwn40000gn/T//RtmpTK9Oah/downloaded_packages\n"
     ]
    }
   ],
   "source": [
    "install.packages(\"readxl\")\n",
    "install.packages(\"tidyverse\")"
   ]
  },
  {
   "cell_type": "code",
   "execution_count": 8,
   "metadata": {},
   "outputs": [
    {
     "name": "stderr",
     "output_type": "stream",
     "text": [
      "── \u001b[1mAttaching packages\u001b[22m ─────────────────────────────────────── tidyverse 1.3.0 ──\n",
      "\n",
      "\u001b[32m✔\u001b[39m \u001b[34mggplot2\u001b[39m 3.3.2     \u001b[32m✔\u001b[39m \u001b[34mpurrr  \u001b[39m 0.3.4\n",
      "\u001b[32m✔\u001b[39m \u001b[34mtibble \u001b[39m 3.0.3     \u001b[32m✔\u001b[39m \u001b[34mdplyr  \u001b[39m 1.0.2\n",
      "\u001b[32m✔\u001b[39m \u001b[34mtidyr  \u001b[39m 1.1.2     \u001b[32m✔\u001b[39m \u001b[34mstringr\u001b[39m 1.4.0\n",
      "\u001b[32m✔\u001b[39m \u001b[34mreadr  \u001b[39m 1.4.0     \u001b[32m✔\u001b[39m \u001b[34mforcats\u001b[39m 0.5.0\n",
      "\n",
      "── \u001b[1mConflicts\u001b[22m ────────────────────────────────────────── tidyverse_conflicts() ──\n",
      "\u001b[31m✖\u001b[39m \u001b[34mdplyr\u001b[39m::\u001b[32mfilter()\u001b[39m masks \u001b[34mstats\u001b[39m::filter()\n",
      "\u001b[31m✖\u001b[39m \u001b[34mdplyr\u001b[39m::\u001b[32mlag()\u001b[39m    masks \u001b[34mstats\u001b[39m::lag()\n",
      "\n"
     ]
    }
   ],
   "source": [
    "library(readxl)\n",
    "library(tidyverse)"
   ]
  },
  {
   "cell_type": "code",
   "execution_count": 6,
   "metadata": {},
   "outputs": [
    {
     "ename": "ERROR",
     "evalue": "Error in read_excel(\"RBA_KYC_Accounts_ALL_Ids.xlsx\", col_types = c(\"text\", : no se pudo encontrar la función \"read_excel\"\n",
     "output_type": "error",
     "traceback": [
      "Error in read_excel(\"RBA_KYC_Accounts_ALL_Ids.xlsx\", col_types = c(\"text\", : no se pudo encontrar la función \"read_excel\"\nTraceback:\n"
     ]
    }
   ],
   "source": [
    "accounts <- read_excel(\"RBA_KYC_Accounts_ALL_Ids.xlsx\",  \n",
    "                       col_types = c(\"text\", \"text\", \"text\", \n",
    "                                     \"text\", \"numeric\", \"text\", \"text\", \n",
    "                                     \"numeric\", \"text\", \"text\", \"text\", \n",
    "                                     \"text\", \"numeric\", \"numeric\", \"text\", \n",
    "                                     \"text\", \"text\", \"text\", \"text\", \"text\", \n",
    "                                     \"numeric\", \"text\", \"numeric\", \"numeric\", \n",
    "                                     \"numeric\", \"numeric\", \"numeric\", \n",
    "                                     \"numeric\", \"numeric\", \"numeric\", \n",
    "                                     \"numeric\", \"numeric\", \"numeric\", \n",
    "                                     \"numeric\", \"numeric\", \"numeric\", \n",
    "                                     \"numeric\", \"numeric\", \"numeric\", \n",
    "                                     \"numeric\", \"numeric\", \"text\", \"text\", \n",
    "                                     \"text\", \"text\", \"numeric\", \"numeric\"))\n"
   ]
  },
  {
   "cell_type": "code",
   "execution_count": 5,
   "metadata": {},
   "outputs": [
    {
     "ename": "ERROR",
     "evalue": "Error in select(accounts, -c(birthPlace, extraNationality, birthCountry, : no se pudo encontrar la función \"%>%\"\n",
     "output_type": "error",
     "traceback": [
      "Error in select(accounts, -c(birthPlace, extraNationality, birthCountry, : no se pudo encontrar la función \"%>%\"\nTraceback:\n"
     ]
    }
   ],
   "source": [
    "# discard columns listed below\n",
    "accounts.tidy <- select(accounts, \n",
    "                        -c(birthPlace,\n",
    "                           extraNationality,\n",
    "                           birthCountry, \n",
    "                           profession, \n",
    "                           companyType, \n",
    "                           giinCode, \n",
    "                           lastUpdate, \n",
    "                           ledgerCode, \n",
    "                           legal_Stat_desc, \n",
    "                           score_card_Desc)) %>%  na_if(\"NULL\")\n",
    "glimpse(accounts.tidy) "
   ]
  },
  {
   "cell_type": "code",
   "execution_count": null,
   "metadata": {},
   "outputs": [],
   "source": [
    "# date columns are imported as char, here we convert them to date format\n",
    "accounts.recast <- accounts.tidy %>%\n",
    "  mutate(customerType = as.numeric(customerType),\n",
    "         creationDate = parse_date(creationDate),\n",
    "         dateOfBirth = parse_date(dateOfBirth),\n",
    "         date_of_assessment = parse_date(date_of_assessment))\n",
    "\n",
    "\n",
    "# generate dummy variables for \"score_card\" and \"rba_grade_desc\"\n",
    "accounts.encoded <- accounts.recast %>%\n",
    "  mutate(dummy.acc = 1) %>% # column with single value\n",
    "  spread(key = score_card, # column to spread\n",
    "         value = dummy.acc,\n",
    "         fill = 0,\n",
    "         sep = \"_\"\n",
    "  ) %>%\n",
    "  mutate(dummy.rba_grade=1) %>%\n",
    "  spread(key=rba_grade_desc,\n",
    "         value=dummy.rba_grade,\n",
    "         fill=0,\n",
    "         sep=\"_\")\n",
    "\n",
    "View(accounts.encoded)\n"
   ]
  }
 ],
 "metadata": {
  "kernelspec": {
   "display_name": "R",
   "language": "R",
   "name": "ir"
  },
  "language_info": {
   "codemirror_mode": "r",
   "file_extension": ".r",
   "mimetype": "text/x-r-source",
   "name": "R",
   "pygments_lexer": "r",
   "version": "4.0.2"
  }
 },
 "nbformat": 4,
 "nbformat_minor": 4
}
